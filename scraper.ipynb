{
 "cells": [
  {
   "cell_type": "markdown",
   "metadata": {},
   "source": [
    "## Tool for scraping the publication info of the team from Google Scholar"
   ]
  },
  {
   "cell_type": "markdown",
   "metadata": {},
   "source": [
    "Setting up the necessary imports"
   ]
  },
  {
   "cell_type": "code",
   "execution_count": 1,
   "metadata": {},
   "outputs": [],
   "source": [
    "from scholarly import scholarly, ProxyGenerator\n",
    "from os import path, getcwd, chdir, listdir\n",
    "import markdown\n",
    "import json"
   ]
  },
  {
   "cell_type": "markdown",
   "metadata": {},
   "source": [
    "Define some general variables, may need to be adapted upon structural changes to the repository"
   ]
  },
  {
   "cell_type": "code",
   "execution_count": 2,
   "metadata": {},
   "outputs": [],
   "source": [
    "# The path to the folder that stores the information of all team members\n",
    "people_folder = path.join(getcwd(), 'people')\n",
    "# The name of the meta tag, which stores the necessary information about the team member for the search query.\n",
    "meta_name_att = 'name'\n",
    "meta_affiliation_att = 'affiliation'"
   ]
  },
  {
   "cell_type": "markdown",
   "metadata": {},
   "source": [
    "Set up Proxies for the scraping"
   ]
  },
  {
   "cell_type": "code",
   "execution_count": 3,
   "metadata": {},
   "outputs": [],
   "source": [
    "# %%\n",
    "pg = ProxyGenerator()\n",
    "\n",
    "scholarly.use_proxy(pg, pg)"
   ]
  },
  {
   "cell_type": "markdown",
   "metadata": {},
   "source": [
    "In the folders of each member, a Markdown file is stored containing Meta information of the member. We want to access the meta information in order to build up the search queries.\n"
   ]
  },
  {
   "cell_type": "code",
   "execution_count": null,
   "metadata": {},
   "outputs": [],
   "source": [
    "# The 'people' folder holds a subfolder for each member of the team\n",
    "subfolders = listdir(people_folder)\n",
    "\n",
    "# Set up a Markdown parser\n",
    "md_parser = markdown.Markdown(extensions=['meta'])\n",
    "\n",
    "# Iterate through the folders of each member\n",
    "for member_folder in subfolders:\n",
    "  # Complete the path to the folder of the member we currently process\n",
    "  full_path = path.join(people_folder, member_folder)\n",
    "  # Build the path to the Markdown file in the current subfolder\n",
    "  md_path = path.join(full_path, [filename for filename in listdir(full_path) if '.md' in filename ][0])\n",
    "  \n",
    "  # Read in the Markdown file\n",
    "  with open(md_path, 'r') as md_file:\n",
    "    text = md_file.read()\n",
    "    # Make use of the Markdown Parser to access the Meta information that is stored in the file\n",
    "    md_parser.convert(text)\n",
    "    # Retrieve the Metadata of the author\n",
    "    author_name = md_parser.Meta[meta_name_att][0].replace('\"', '')\n",
    "    author_affiliation = md_parser.Meta[meta_affiliation_att][0].replace('\"', '')\n",
    "    print(author_name)\n",
    "\n",
    "  # Use scholarly to build up a search query for the team member\n",
    "  author_query = scholarly.search_author(' '.join([author_name, author_affiliation]))\n",
    "  \n",
    "  # Execute the search query to fill up information about the team member\n",
    "  try:\n",
    "    author = scholarly.fill(next(author_query))\n",
    "    \n",
    "    # Collect information of all publications of the team member\n",
    "    publications = []\n",
    "    num_pubs = len(author['publications'])\n",
    "    print(f'start processing {num_pubs} publications')\n",
    "    # Iterate over each entry in the publication list\n",
    "    # NOTE: The entries here are not filled up yet by scholarly, but simple placeholders containing some meta info\n",
    "    # that can be used for further querying\n",
    "    for idx, pub_query in enumerate(author['publications']):\n",
    "      if idx % 10 == 0:\n",
    "        print(f'begin processing publication #{idx}')\n",
    "      # use the placeholder query to retrieve the actual publication info from Google Scholar\n",
    "      publications.append(scholarly.fill(pub_query))\n",
    "    \n",
    "    # Save the collected publication info appropriately\n",
    "    with open(path.join(full_path, 'publications.json'), 'w', encoding='utf-8') as f:\n",
    "      json.dump(publications, f, ensure_ascii=False, indent=4)\n",
    "      \n",
    "  except StopIteration:\n",
    "    print('no information found for the author, proceeding to the next')\n",
    "  \n",
    "  "
   ]
  },
  {
   "cell_type": "code",
   "execution_count": null,
   "metadata": {},
   "outputs": [],
   "source": []
  }
 ],
 "metadata": {
  "kernelspec": {
   "display_name": "Python 3.9.7 ('base')",
   "language": "python",
   "name": "python3"
  },
  "language_info": {
   "codemirror_mode": {
    "name": "ipython",
    "version": 3
   },
   "file_extension": ".py",
   "mimetype": "text/x-python",
   "name": "python",
   "nbconvert_exporter": "python",
   "pygments_lexer": "ipython3",
   "version": "3.9.12"
  },
  "orig_nbformat": 4,
  "vscode": {
   "interpreter": {
    "hash": "206bd255909268dc9ca464f38b020e196356f9ed46c9aec7b5fddb8ea85fd10d"
   }
  }
 },
 "nbformat": 4,
 "nbformat_minor": 2
}
